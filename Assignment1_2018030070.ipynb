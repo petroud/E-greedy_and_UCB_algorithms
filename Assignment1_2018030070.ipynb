{
  "nbformat": 4,
  "nbformat_minor": 0,
  "metadata": {
    "colab": {
      "provenance": []
    },
    "kernelspec": {
      "name": "python3",
      "display_name": "Python 3"
    },
    "language_info": {
      "name": "python"
    }
  },
  "cells": [
    {
      "cell_type": "code",
      "execution_count": 7,
      "metadata": {
        "colab": {
          "base_uri": "https://localhost:8080/",
          "height": 486
        },
        "id": "JGO-jhvzsk2t",
        "outputId": "64a4a7a4-9c78-40be-c4c6-cdd3824841ef"
      },
      "outputs": [
        {
          "output_type": "stream",
          "name": "stdout",
          "text": [
            "best arm = 5\n",
            "arm = 0: true mean = 0.900524 : sample mean = 0.900000\n",
            "arm = 1: true mean = 0.441923 : sample mean = 0.300000\n",
            "arm = 2: true mean = 0.442955 : sample mean = 0.250000\n",
            "arm = 3: true mean = 0.162575 : sample mean = 0.150000\n",
            "arm = 4: true mean = 0.002944 : sample mean = 0.000000\n",
            "arm = 5: true mean = 0.928706 : sample mean = 1.000000\n",
            "arm = 6: true mean = 0.721049 : sample mean = 0.750000\n",
            "arm = 7: true mean = 0.354300 : sample mean = 0.250000\n",
            "arm = 8: true mean = 0.717738 : sample mean = 0.750000\n",
            "arm = 9: true mean = 0.056432 : sample mean = 0.050000\n"
          ]
        },
        {
          "output_type": "display_data",
          "data": {
            "text/plain": [
              "<Figure size 432x288 with 1 Axes>"
            ],
            "image/png": "[encoded data removed]"
          },
          "metadata": {
            "needs_background": "light"
          }
        }
      ],
      "source": [
        "# import modules \n",
        "import numpy as np \n",
        "import matplotlib.pyplot as plt \n",
        "import pandas as pd \n",
        "import random\n",
        "k = 10    #number of arms\n",
        "T = 1000  #horizon  \n",
        "N = 20    #explore rounds\n",
        "bandit = np.random.random((k,)) #success prob. for each arm\n",
        "best = np.amax(bandit) #best arm\n",
        "print('best arm = %d' %np.argmax(bandit))\n",
        "\n",
        "bandit_score = np.zeros((k,)) #total score of each arm for first N rounds\n",
        "pulls = np.zeros((k,)) #num of arm pulls\n",
        "inst_score = np.zeros((T,)) #reward for round t\n",
        "best_score = np.zeros((T,)) #cumulative reward of best arm for round t\n",
        "alg_score = np.zeros((T,)) #cumulative reward for round t\n",
        "regret =  np.zeros((T,)) #regret for round t\n",
        "\n",
        "#this code properly activates each arm in round robin, for a total of N times\n",
        "\n",
        "for i in range(N):\n",
        "  for j in range(k):\n",
        "    score = np.random.binomial(1,p=bandit[j])  #get a reward for arm j\n",
        "    inst_score[i*k+j] = score  #record reward of algorithm (during explore) at that instant\n",
        "    bandit_score[j] += score  #update the total score (during explore) of arm j\n",
        "for i in range(k):\n",
        "  print('arm = %d: true mean = %f : sample mean = %f' % (i,bandit[i],bandit_score[i]/N))\n",
        "  \n",
        "\n",
        "\n",
        "\n",
        "\n",
        "\n",
        "\n",
        "# the following code activates each arm N times in a row instead\n",
        "\n",
        "\"\"\"\n",
        "\n",
        "for i in range(k):\n",
        "  score = np.random.binomial(size=N,n=1,p=bandit[i])\n",
        "  inst_score[i*N:((i+1)*N)] = score\n",
        "# print(score)\n",
        "  #print(score.mean())\n",
        "  bandit_score[i] = score.mean()\n",
        "  print(bandit_score[i])\n",
        "    #print('arm = %d: score = %d' % (arm,score[0]))\n",
        "\"\"\"\n",
        "\n",
        "arm = np.argmax(bandit_score/N)  #get id of best arm (during explore)\n",
        "\n",
        "\n",
        "for i in range(N*k,T):\n",
        "  inst_score[i] = np.random.binomial(1,p=bandit[arm])  #play best arm for the remainder of the horizon\n",
        "#print(inst_score)\n",
        "for i in range(T):\n",
        "  if i > 0: best_score[i] = best_score[i-1] + best #vector keeping track of t*optimal reward (cummulative reward)\n",
        "  else: best_score[i] = best\n",
        "  if i > 0: alg_score[i] = alg_score[i-1] + inst_score[i] #vector keeping track of cummulative explore-then-eploit reward at all times \n",
        "  else: alg_score[i] = inst_score[i]\n",
        "  regret[i] = (best_score[i] - alg_score[i])/(i+1)  #regret per iteration at round t\n",
        "\n",
        "plt.title(\"Explore-then-Exploit Performance\") \n",
        "plt.xlabel(\"Round T\") \n",
        "plt.ylabel(\"Total score\") \n",
        "plt.plot(np.arange(1,T+1),regret) \n",
        "plt.show()\n",
        "\n",
        "\n",
        "\n",
        "\n"
      ]
    }
  ]
}